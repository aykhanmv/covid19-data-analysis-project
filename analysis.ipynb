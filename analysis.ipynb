{
 "cells": [
  {
   "cell_type": "code",
   "execution_count": 38,
   "metadata": {},
   "outputs": [],
   "source": [
    "# Data manupulation\n",
    "import pandas as pd\n",
    "\n",
    "# Numerical computation\n",
    "import numpy as np\n",
    "\n",
    "# Data visualization\n",
    "import matplotlib.pyplot as plt\n",
    "import seaborn as sns\n",
    "import plotly.express as px\n",
    "from plotly.subplots import make_subplots\n",
    "\n",
    "# Data preprocessing\n",
    "from datetime import datetime"
   ]
  },
  {
   "cell_type": "code",
   "execution_count": 39,
   "metadata": {},
   "outputs": [
    {
     "data": {
      "text/html": [
       "<div>\n",
       "<style scoped>\n",
       "    .dataframe tbody tr th:only-of-type {\n",
       "        vertical-align: middle;\n",
       "    }\n",
       "\n",
       "    .dataframe tbody tr th {\n",
       "        vertical-align: top;\n",
       "    }\n",
       "\n",
       "    .dataframe thead th {\n",
       "        text-align: right;\n",
       "    }\n",
       "</style>\n",
       "<table border=\"1\" class=\"dataframe\">\n",
       "  <thead>\n",
       "    <tr style=\"text-align: right;\">\n",
       "      <th></th>\n",
       "      <th>Sno</th>\n",
       "      <th>Date</th>\n",
       "      <th>Time</th>\n",
       "      <th>State/UnionTerritory</th>\n",
       "      <th>ConfirmedIndianNational</th>\n",
       "      <th>ConfirmedForeignNational</th>\n",
       "      <th>Cured</th>\n",
       "      <th>Deaths</th>\n",
       "      <th>Confirmed</th>\n",
       "    </tr>\n",
       "  </thead>\n",
       "  <tbody>\n",
       "    <tr>\n",
       "      <th>0</th>\n",
       "      <td>1</td>\n",
       "      <td>2020-01-30</td>\n",
       "      <td>6:00 PM</td>\n",
       "      <td>Kerala</td>\n",
       "      <td>1</td>\n",
       "      <td>0</td>\n",
       "      <td>0</td>\n",
       "      <td>0</td>\n",
       "      <td>1</td>\n",
       "    </tr>\n",
       "    <tr>\n",
       "      <th>1</th>\n",
       "      <td>2</td>\n",
       "      <td>2020-01-31</td>\n",
       "      <td>6:00 PM</td>\n",
       "      <td>Kerala</td>\n",
       "      <td>1</td>\n",
       "      <td>0</td>\n",
       "      <td>0</td>\n",
       "      <td>0</td>\n",
       "      <td>1</td>\n",
       "    </tr>\n",
       "    <tr>\n",
       "      <th>2</th>\n",
       "      <td>3</td>\n",
       "      <td>2020-02-01</td>\n",
       "      <td>6:00 PM</td>\n",
       "      <td>Kerala</td>\n",
       "      <td>2</td>\n",
       "      <td>0</td>\n",
       "      <td>0</td>\n",
       "      <td>0</td>\n",
       "      <td>2</td>\n",
       "    </tr>\n",
       "  </tbody>\n",
       "</table>\n",
       "</div>"
      ],
      "text/plain": [
       "   Sno        Date     Time State/UnionTerritory ConfirmedIndianNational   \n",
       "0    1  2020-01-30  6:00 PM               Kerala                       1  \\\n",
       "1    2  2020-01-31  6:00 PM               Kerala                       1   \n",
       "2    3  2020-02-01  6:00 PM               Kerala                       2   \n",
       "\n",
       "  ConfirmedForeignNational  Cured  Deaths  Confirmed  \n",
       "0                        0      0       0          1  \n",
       "1                        0      0       0          1  \n",
       "2                        0      0       0          2  "
      ]
     },
     "execution_count": 39,
     "metadata": {},
     "output_type": "execute_result"
    }
   ],
   "source": [
    "covid_df = pd.read_csv('data/covid_19_india.csv')\n",
    "vaccine_df = pd.read_csv('data/covid_vaccine_statewise.csv')\n",
    "\n",
    "covid_df.head(3)"
   ]
  },
  {
   "cell_type": "code",
   "execution_count": 40,
   "metadata": {},
   "outputs": [
    {
     "data": {
      "text/html": [
       "<div>\n",
       "<style scoped>\n",
       "    .dataframe tbody tr th:only-of-type {\n",
       "        vertical-align: middle;\n",
       "    }\n",
       "\n",
       "    .dataframe tbody tr th {\n",
       "        vertical-align: top;\n",
       "    }\n",
       "\n",
       "    .dataframe thead th {\n",
       "        text-align: right;\n",
       "    }\n",
       "</style>\n",
       "<table border=\"1\" class=\"dataframe\">\n",
       "  <thead>\n",
       "    <tr style=\"text-align: right;\">\n",
       "      <th></th>\n",
       "      <th>Date</th>\n",
       "      <th>Region</th>\n",
       "      <th>Reported</th>\n",
       "      <th>Cured</th>\n",
       "      <th>Deaths</th>\n",
       "    </tr>\n",
       "  </thead>\n",
       "  <tbody>\n",
       "    <tr>\n",
       "      <th>0</th>\n",
       "      <td>2020-01-30</td>\n",
       "      <td>Kerala</td>\n",
       "      <td>1</td>\n",
       "      <td>0</td>\n",
       "      <td>0</td>\n",
       "    </tr>\n",
       "    <tr>\n",
       "      <th>1</th>\n",
       "      <td>2020-01-31</td>\n",
       "      <td>Kerala</td>\n",
       "      <td>1</td>\n",
       "      <td>0</td>\n",
       "      <td>0</td>\n",
       "    </tr>\n",
       "    <tr>\n",
       "      <th>2</th>\n",
       "      <td>2020-02-01</td>\n",
       "      <td>Kerala</td>\n",
       "      <td>2</td>\n",
       "      <td>0</td>\n",
       "      <td>0</td>\n",
       "    </tr>\n",
       "  </tbody>\n",
       "</table>\n",
       "</div>"
      ],
      "text/plain": [
       "        Date  Region  Reported  Cured  Deaths\n",
       "0 2020-01-30  Kerala         1      0       0\n",
       "1 2020-01-31  Kerala         1      0       0\n",
       "2 2020-02-01  Kerala         2      0       0"
      ]
     },
     "execution_count": 40,
     "metadata": {},
     "output_type": "execute_result"
    }
   ],
   "source": [
    "# Modifyting the csv file to make it more readable\n",
    "covid_df.rename(columns={\"Confirmed\": \"Reported\"}, inplace=True)\n",
    "covid_df.rename(columns={\"State/UnionTerritory\": \"Region\"}, inplace=True)\n",
    "\n",
    "# To remove unnecessary columns and converting date column to datetime format\n",
    "try:\n",
    "    covid_df.drop([\"Sno\", \"Time\", \"ConfirmedIndianNational\", \"ConfirmedForeignNational\"], axis = 1, inplace=True)  \n",
    "except:\n",
    "    print(\"Run All to do so!\")\n",
    "covid_df['Date'] = pd.to_datetime(covid_df['Date'], format='%Y-%m-%d')\n",
    "\n",
    "# Repositioning the columns\n",
    "new_cols = [\"Date\",\"Region\",\"Reported\",\"Cured\", \"Deaths\"]\n",
    "covid_df = covid_df[new_cols]\n",
    "\n",
    "covid_df.head(3)"
   ]
  },
  {
   "cell_type": "code",
   "execution_count": 41,
   "metadata": {},
   "outputs": [
    {
     "name": "stdout",
     "output_type": "stream",
     "text": [
      "<class 'pandas.core.frame.DataFrame'>\n",
      "RangeIndex: 18110 entries, 0 to 18109\n",
      "Data columns (total 5 columns):\n",
      " #   Column    Non-Null Count  Dtype         \n",
      "---  ------    --------------  -----         \n",
      " 0   Date      18110 non-null  datetime64[ns]\n",
      " 1   Region    18110 non-null  object        \n",
      " 2   Reported  18110 non-null  int64         \n",
      " 3   Cured     18110 non-null  int64         \n",
      " 4   Deaths    18110 non-null  int64         \n",
      "dtypes: datetime64[ns](1), int64(3), object(1)\n",
      "memory usage: 707.5+ KB\n"
     ]
    }
   ],
   "source": [
    "# To get basic info about columns and rows\n",
    "covid_df.info()"
   ]
  },
  {
   "cell_type": "code",
   "execution_count": 42,
   "metadata": {},
   "outputs": [
    {
     "data": {
      "text/html": [
       "<div>\n",
       "<style scoped>\n",
       "    .dataframe tbody tr th:only-of-type {\n",
       "        vertical-align: middle;\n",
       "    }\n",
       "\n",
       "    .dataframe tbody tr th {\n",
       "        vertical-align: top;\n",
       "    }\n",
       "\n",
       "    .dataframe thead th {\n",
       "        text-align: right;\n",
       "    }\n",
       "</style>\n",
       "<table border=\"1\" class=\"dataframe\">\n",
       "  <thead>\n",
       "    <tr style=\"text-align: right;\">\n",
       "      <th></th>\n",
       "      <th>Date</th>\n",
       "      <th>Reported</th>\n",
       "      <th>Cured</th>\n",
       "      <th>Deaths</th>\n",
       "    </tr>\n",
       "  </thead>\n",
       "  <tbody>\n",
       "    <tr>\n",
       "      <th>count</th>\n",
       "      <td>18110</td>\n",
       "      <td>1.811000e+04</td>\n",
       "      <td>1.811000e+04</td>\n",
       "      <td>18110.000000</td>\n",
       "    </tr>\n",
       "    <tr>\n",
       "      <th>mean</th>\n",
       "      <td>2020-11-30 21:49:50.127001344</td>\n",
       "      <td>3.010314e+05</td>\n",
       "      <td>2.786375e+05</td>\n",
       "      <td>4052.402264</td>\n",
       "    </tr>\n",
       "    <tr>\n",
       "      <th>min</th>\n",
       "      <td>2020-01-30 00:00:00</td>\n",
       "      <td>0.000000e+00</td>\n",
       "      <td>0.000000e+00</td>\n",
       "      <td>0.000000</td>\n",
       "    </tr>\n",
       "    <tr>\n",
       "      <th>25%</th>\n",
       "      <td>2020-07-26 00:00:00</td>\n",
       "      <td>4.376750e+03</td>\n",
       "      <td>3.360250e+03</td>\n",
       "      <td>32.000000</td>\n",
       "    </tr>\n",
       "    <tr>\n",
       "      <th>50%</th>\n",
       "      <td>2020-12-03 00:00:00</td>\n",
       "      <td>3.977350e+04</td>\n",
       "      <td>3.336400e+04</td>\n",
       "      <td>588.000000</td>\n",
       "    </tr>\n",
       "    <tr>\n",
       "      <th>75%</th>\n",
       "      <td>2021-04-08 00:00:00</td>\n",
       "      <td>3.001498e+05</td>\n",
       "      <td>2.788698e+05</td>\n",
       "      <td>3643.750000</td>\n",
       "    </tr>\n",
       "    <tr>\n",
       "      <th>max</th>\n",
       "      <td>2021-08-11 00:00:00</td>\n",
       "      <td>6.363442e+06</td>\n",
       "      <td>6.159676e+06</td>\n",
       "      <td>134201.000000</td>\n",
       "    </tr>\n",
       "    <tr>\n",
       "      <th>std</th>\n",
       "      <td>NaN</td>\n",
       "      <td>6.561489e+05</td>\n",
       "      <td>6.148909e+05</td>\n",
       "      <td>10919.076411</td>\n",
       "    </tr>\n",
       "  </tbody>\n",
       "</table>\n",
       "</div>"
      ],
      "text/plain": [
       "                                Date      Reported         Cured   \n",
       "count                          18110  1.811000e+04  1.811000e+04  \\\n",
       "mean   2020-11-30 21:49:50.127001344  3.010314e+05  2.786375e+05   \n",
       "min              2020-01-30 00:00:00  0.000000e+00  0.000000e+00   \n",
       "25%              2020-07-26 00:00:00  4.376750e+03  3.360250e+03   \n",
       "50%              2020-12-03 00:00:00  3.977350e+04  3.336400e+04   \n",
       "75%              2021-04-08 00:00:00  3.001498e+05  2.788698e+05   \n",
       "max              2021-08-11 00:00:00  6.363442e+06  6.159676e+06   \n",
       "std                              NaN  6.561489e+05  6.148909e+05   \n",
       "\n",
       "              Deaths  \n",
       "count   18110.000000  \n",
       "mean     4052.402264  \n",
       "min         0.000000  \n",
       "25%        32.000000  \n",
       "50%       588.000000  \n",
       "75%      3643.750000  \n",
       "max    134201.000000  \n",
       "std     10919.076411  "
      ]
     },
     "execution_count": 42,
     "metadata": {},
     "output_type": "execute_result"
    }
   ],
   "source": [
    "# To get compenents of box-plot\n",
    "covid_df.describe()"
   ]
  },
  {
   "cell_type": "code",
   "execution_count": 43,
   "metadata": {},
   "outputs": [
    {
     "data": {
      "text/html": [
       "<div>\n",
       "<style scoped>\n",
       "    .dataframe tbody tr th:only-of-type {\n",
       "        vertical-align: middle;\n",
       "    }\n",
       "\n",
       "    .dataframe tbody tr th {\n",
       "        vertical-align: top;\n",
       "    }\n",
       "\n",
       "    .dataframe thead th {\n",
       "        text-align: right;\n",
       "    }\n",
       "</style>\n",
       "<table border=\"1\" class=\"dataframe\">\n",
       "  <thead>\n",
       "    <tr style=\"text-align: right;\">\n",
       "      <th></th>\n",
       "      <th>Date</th>\n",
       "      <th>Region</th>\n",
       "      <th>Reported</th>\n",
       "      <th>Cured</th>\n",
       "      <th>Deaths</th>\n",
       "      <th>Active</th>\n",
       "      <th>Cure Rate</th>\n",
       "    </tr>\n",
       "  </thead>\n",
       "  <tbody>\n",
       "    <tr>\n",
       "      <th>18107</th>\n",
       "      <td>2021-08-11</td>\n",
       "      <td>Uttarakhand</td>\n",
       "      <td>342462</td>\n",
       "      <td>334650</td>\n",
       "      <td>7368</td>\n",
       "      <td>444</td>\n",
       "      <td>97.718871</td>\n",
       "    </tr>\n",
       "    <tr>\n",
       "      <th>18108</th>\n",
       "      <td>2021-08-11</td>\n",
       "      <td>Uttar Pradesh</td>\n",
       "      <td>1708812</td>\n",
       "      <td>1685492</td>\n",
       "      <td>22775</td>\n",
       "      <td>545</td>\n",
       "      <td>98.635309</td>\n",
       "    </tr>\n",
       "    <tr>\n",
       "      <th>18109</th>\n",
       "      <td>2021-08-11</td>\n",
       "      <td>West Bengal</td>\n",
       "      <td>1534999</td>\n",
       "      <td>1506532</td>\n",
       "      <td>18252</td>\n",
       "      <td>10215</td>\n",
       "      <td>98.145471</td>\n",
       "    </tr>\n",
       "  </tbody>\n",
       "</table>\n",
       "</div>"
      ],
      "text/plain": [
       "            Date         Region  Reported    Cured  Deaths  Active  Cure Rate\n",
       "18107 2021-08-11    Uttarakhand    342462   334650    7368     444  97.718871\n",
       "18108 2021-08-11  Uttar Pradesh   1708812  1685492   22775     545  98.635309\n",
       "18109 2021-08-11    West Bengal   1534999  1506532   18252   10215  98.145471"
      ]
     },
     "execution_count": 43,
     "metadata": {},
     "output_type": "execute_result"
    }
   ],
   "source": [
    "# To get the number of active cases in a new column\n",
    "covid_df[\"Active\"] = covid_df[\"Reported\"] - covid_df[\"Cured\"] - covid_df[\"Deaths\"]\n",
    "covid_df[\"Cure Rate\"] = covid_df[\"Cured\"] / covid_df[\"Reported\"] * 100\n",
    "\n",
    "covid_df.tail(3)"
   ]
  },
  {
   "cell_type": "code",
   "execution_count": 44,
   "metadata": {},
   "outputs": [
    {
     "data": {
      "text/html": [
       "<style type=\"text/css\">\n",
       "#T_9a7b6_row0_col1, #T_9a7b6_row0_col2, #T_9a7b6_row0_col3, #T_9a7b6_row0_col4, #T_9a7b6_row6_col5 {\n",
       "  background-color: #08306b;\n",
       "  color: #f1f1f1;\n",
       "}\n",
       "#T_9a7b6_row0_col5, #T_9a7b6_row6_col4, #T_9a7b6_row8_col1, #T_9a7b6_row8_col2, #T_9a7b6_row9_col1, #T_9a7b6_row9_col2, #T_9a7b6_row9_col3 {\n",
       "  background-color: #f7fbff;\n",
       "  color: #000000;\n",
       "}\n",
       "#T_9a7b6_row1_col1 {\n",
       "  background-color: #aacfe5;\n",
       "  color: #000000;\n",
       "}\n",
       "#T_9a7b6_row1_col2 {\n",
       "  background-color: #abd0e6;\n",
       "  color: #000000;\n",
       "}\n",
       "#T_9a7b6_row1_col3 {\n",
       "  background-color: #cfe1f2;\n",
       "  color: #000000;\n",
       "}\n",
       "#T_9a7b6_row1_col4 {\n",
       "  background-color: #8dc1dd;\n",
       "  color: #000000;\n",
       "}\n",
       "#T_9a7b6_row1_col5, #T_9a7b6_row5_col1 {\n",
       "  background-color: #d8e7f5;\n",
       "  color: #000000;\n",
       "}\n",
       "#T_9a7b6_row2_col1, #T_9a7b6_row2_col2 {\n",
       "  background-color: #b3d3e8;\n",
       "  color: #000000;\n",
       "}\n",
       "#T_9a7b6_row2_col3, #T_9a7b6_row8_col4 {\n",
       "  background-color: #f4f9fe;\n",
       "  color: #000000;\n",
       "}\n",
       "#T_9a7b6_row2_col4 {\n",
       "  background-color: #94c4df;\n",
       "  color: #000000;\n",
       "}\n",
       "#T_9a7b6_row2_col5 {\n",
       "  background-color: #3b8bc2;\n",
       "  color: #f1f1f1;\n",
       "}\n",
       "#T_9a7b6_row3_col1 {\n",
       "  background-color: #bdd7ec;\n",
       "  color: #000000;\n",
       "}\n",
       "#T_9a7b6_row3_col2 {\n",
       "  background-color: #b9d6ea;\n",
       "  color: #000000;\n",
       "}\n",
       "#T_9a7b6_row3_col3 {\n",
       "  background-color: #d0e1f2;\n",
       "  color: #000000;\n",
       "}\n",
       "#T_9a7b6_row3_col4 {\n",
       "  background-color: #d3e3f3;\n",
       "  color: #000000;\n",
       "}\n",
       "#T_9a7b6_row3_col5 {\n",
       "  background-color: #084990;\n",
       "  color: #f1f1f1;\n",
       "}\n",
       "#T_9a7b6_row4_col1 {\n",
       "  background-color: #c8dcf0;\n",
       "  color: #000000;\n",
       "}\n",
       "#T_9a7b6_row4_col2 {\n",
       "  background-color: #c6dbef;\n",
       "  color: #000000;\n",
       "}\n",
       "#T_9a7b6_row4_col3 {\n",
       "  background-color: #eaf3fb;\n",
       "  color: #000000;\n",
       "}\n",
       "#T_9a7b6_row4_col4 {\n",
       "  background-color: #dae8f6;\n",
       "  color: #000000;\n",
       "}\n",
       "#T_9a7b6_row4_col5 {\n",
       "  background-color: #4191c6;\n",
       "  color: #f1f1f1;\n",
       "}\n",
       "#T_9a7b6_row5_col2 {\n",
       "  background-color: #d7e6f5;\n",
       "  color: #000000;\n",
       "}\n",
       "#T_9a7b6_row5_col3 {\n",
       "  background-color: #dfecf7;\n",
       "  color: #000000;\n",
       "}\n",
       "#T_9a7b6_row5_col4 {\n",
       "  background-color: #e0ecf8;\n",
       "  color: #000000;\n",
       "}\n",
       "#T_9a7b6_row5_col5 {\n",
       "  background-color: #2373b6;\n",
       "  color: #f1f1f1;\n",
       "}\n",
       "#T_9a7b6_row6_col1 {\n",
       "  background-color: #ddeaf7;\n",
       "  color: #000000;\n",
       "}\n",
       "#T_9a7b6_row6_col2 {\n",
       "  background-color: #dbe9f6;\n",
       "  color: #000000;\n",
       "}\n",
       "#T_9a7b6_row6_col3 {\n",
       "  background-color: #d9e7f5;\n",
       "  color: #000000;\n",
       "}\n",
       "#T_9a7b6_row7_col1 {\n",
       "  background-color: #e3eef8;\n",
       "  color: #000000;\n",
       "}\n",
       "#T_9a7b6_row7_col2 {\n",
       "  background-color: #e1edf8;\n",
       "  color: #000000;\n",
       "}\n",
       "#T_9a7b6_row7_col3 {\n",
       "  background-color: #e2edf8;\n",
       "  color: #000000;\n",
       "}\n",
       "#T_9a7b6_row7_col4 {\n",
       "  background-color: #eff6fc;\n",
       "  color: #000000;\n",
       "}\n",
       "#T_9a7b6_row7_col5 {\n",
       "  background-color: #65aad4;\n",
       "  color: #f1f1f1;\n",
       "}\n",
       "#T_9a7b6_row8_col3, #T_9a7b6_row9_col4 {\n",
       "  background-color: #f2f8fd;\n",
       "  color: #000000;\n",
       "}\n",
       "#T_9a7b6_row8_col5 {\n",
       "  background-color: #2a7ab9;\n",
       "  color: #f1f1f1;\n",
       "}\n",
       "#T_9a7b6_row9_col5 {\n",
       "  background-color: #083471;\n",
       "  color: #f1f1f1;\n",
       "}\n",
       "</style>\n",
       "<table id=\"T_9a7b6\">\n",
       "  <thead>\n",
       "    <tr>\n",
       "      <th class=\"blank level0\" >&nbsp;</th>\n",
       "      <th id=\"T_9a7b6_level0_col0\" class=\"col_heading level0 col0\" >Region</th>\n",
       "      <th id=\"T_9a7b6_level0_col1\" class=\"col_heading level0 col1\" >Reported</th>\n",
       "      <th id=\"T_9a7b6_level0_col2\" class=\"col_heading level0 col2\" >Cured</th>\n",
       "      <th id=\"T_9a7b6_level0_col3\" class=\"col_heading level0 col3\" >Deaths</th>\n",
       "      <th id=\"T_9a7b6_level0_col4\" class=\"col_heading level0 col4\" >Active</th>\n",
       "      <th id=\"T_9a7b6_level0_col5\" class=\"col_heading level0 col5\" >Cure Rate</th>\n",
       "    </tr>\n",
       "  </thead>\n",
       "  <tbody>\n",
       "    <tr>\n",
       "      <th id=\"T_9a7b6_level0_row0\" class=\"row_heading level0 row0\" >0</th>\n",
       "      <td id=\"T_9a7b6_row0_col0\" class=\"data row0 col0\" >Maharashtra</td>\n",
       "      <td id=\"T_9a7b6_row0_col1\" class=\"data row0 col1\" >1121491467</td>\n",
       "      <td id=\"T_9a7b6_row0_col2\" class=\"data row0 col2\" >1018765039</td>\n",
       "      <td id=\"T_9a7b6_row0_col3\" class=\"data row0 col3\" >23737432</td>\n",
       "      <td id=\"T_9a7b6_row0_col4\" class=\"data row0 col4\" >78988996</td>\n",
       "      <td id=\"T_9a7b6_row0_col5\" class=\"data row0 col5\" >37425.368599</td>\n",
       "    </tr>\n",
       "    <tr>\n",
       "      <th id=\"T_9a7b6_level0_row1\" class=\"row_heading level0 row1\" >1</th>\n",
       "      <td id=\"T_9a7b6_row1_col0\" class=\"data row1 col0\" >Karnataka</td>\n",
       "      <td id=\"T_9a7b6_row1_col1\" class=\"data row1 col1\" >485970693</td>\n",
       "      <td id=\"T_9a7b6_row1_col2\" class=\"data row1 col2\" >441844360</td>\n",
       "      <td id=\"T_9a7b6_row1_col3\" class=\"data row1 col3\" >6053762</td>\n",
       "      <td id=\"T_9a7b6_row1_col4\" class=\"data row1 col4\" >38072571</td>\n",
       "      <td id=\"T_9a7b6_row1_col5\" class=\"data row1 col5\" >38022.414789</td>\n",
       "    </tr>\n",
       "    <tr>\n",
       "      <th id=\"T_9a7b6_level0_row2\" class=\"row_heading level0 row2\" >2</th>\n",
       "      <td id=\"T_9a7b6_row2_col0\" class=\"data row2 col0\" >Kerala</td>\n",
       "      <td id=\"T_9a7b6_row2_col1\" class=\"data row2 col1\" >458906023</td>\n",
       "      <td id=\"T_9a7b6_row2_col2\" class=\"data row2 col2\" >420174235</td>\n",
       "      <td id=\"T_9a7b6_row2_col3\" class=\"data row2 col3\" >1888177</td>\n",
       "      <td id=\"T_9a7b6_row2_col4\" class=\"data row2 col4\" >36843611</td>\n",
       "      <td id=\"T_9a7b6_row2_col5\" class=\"data row2 col5\" >39871.799874</td>\n",
       "    </tr>\n",
       "    <tr>\n",
       "      <th id=\"T_9a7b6_level0_row3\" class=\"row_heading level0 row3\" >3</th>\n",
       "      <td id=\"T_9a7b6_row3_col0\" class=\"data row3 col0\" >Tamil Nadu</td>\n",
       "      <td id=\"T_9a7b6_row3_col1\" class=\"data row3 col1\" >431928644</td>\n",
       "      <td id=\"T_9a7b6_row3_col2\" class=\"data row3 col2\" >404095807</td>\n",
       "      <td id=\"T_9a7b6_row3_col3\" class=\"data row3 col3\" >5916658</td>\n",
       "      <td id=\"T_9a7b6_row3_col4\" class=\"data row3 col4\" >21916179</td>\n",
       "      <td id=\"T_9a7b6_row3_col5\" class=\"data row3 col5\" >40836.073786</td>\n",
       "    </tr>\n",
       "    <tr>\n",
       "      <th id=\"T_9a7b6_level0_row4\" class=\"row_heading level0 row4\" >4</th>\n",
       "      <td id=\"T_9a7b6_row4_col0\" class=\"data row4 col0\" >Andhra Pradesh</td>\n",
       "      <td id=\"T_9a7b6_row4_col1\" class=\"data row4 col1\" >392432753</td>\n",
       "      <td id=\"T_9a7b6_row4_col2\" class=\"data row4 col2\" >370426530</td>\n",
       "      <td id=\"T_9a7b6_row4_col3\" class=\"data row4 col3\" >2939367</td>\n",
       "      <td id=\"T_9a7b6_row4_col4\" class=\"data row4 col4\" >19066856</td>\n",
       "      <td id=\"T_9a7b6_row4_col5\" class=\"data row4 col5\" >39782.018690</td>\n",
       "    </tr>\n",
       "    <tr>\n",
       "      <th id=\"T_9a7b6_level0_row5\" class=\"row_heading level0 row5\" >5</th>\n",
       "      <td id=\"T_9a7b6_row5_col0\" class=\"data row5 col0\" >Uttar Pradesh</td>\n",
       "      <td id=\"T_9a7b6_row5_col1\" class=\"data row5 col1\" >312625843</td>\n",
       "      <td id=\"T_9a7b6_row5_col2\" class=\"data row5 col2\" >291479351</td>\n",
       "      <td id=\"T_9a7b6_row5_col3\" class=\"data row5 col3\" >4143450</td>\n",
       "      <td id=\"T_9a7b6_row5_col4\" class=\"data row5 col4\" >17003042</td>\n",
       "      <td id=\"T_9a7b6_row5_col5\" class=\"data row5 col5\" >40217.197237</td>\n",
       "    </tr>\n",
       "    <tr>\n",
       "      <th id=\"T_9a7b6_level0_row6\" class=\"row_heading level0 row6\" >6</th>\n",
       "      <td id=\"T_9a7b6_row6_col0\" class=\"data row6 col0\" >Delhi</td>\n",
       "      <td id=\"T_9a7b6_row6_col1\" class=\"data row6 col1\" >287227765</td>\n",
       "      <td id=\"T_9a7b6_row6_col2\" class=\"data row6 col2\" >273419887</td>\n",
       "      <td id=\"T_9a7b6_row6_col3\" class=\"data row6 col3\" >4943294</td>\n",
       "      <td id=\"T_9a7b6_row6_col4\" class=\"data row6 col4\" >8864584</td>\n",
       "      <td id=\"T_9a7b6_row6_col5\" class=\"data row6 col5\" >41189.096718</td>\n",
       "    </tr>\n",
       "    <tr>\n",
       "      <th id=\"T_9a7b6_level0_row7\" class=\"row_heading level0 row7\" >7</th>\n",
       "      <td id=\"T_9a7b6_row7_col0\" class=\"data row7 col0\" >West Bengal</td>\n",
       "      <td id=\"T_9a7b6_row7_col1\" class=\"data row7 col1\" >263107876</td>\n",
       "      <td id=\"T_9a7b6_row7_col2\" class=\"data row7 col2\" >247515102</td>\n",
       "      <td id=\"T_9a7b6_row7_col3\" class=\"data row7 col3\" >3846989</td>\n",
       "      <td id=\"T_9a7b6_row7_col4\" class=\"data row7 col4\" >11745785</td>\n",
       "      <td id=\"T_9a7b6_row7_col5\" class=\"data row7 col5\" >39374.338938</td>\n",
       "    </tr>\n",
       "    <tr>\n",
       "      <th id=\"T_9a7b6_level0_row8\" class=\"row_heading level0 row8\" >8</th>\n",
       "      <td id=\"T_9a7b6_row8_col0\" class=\"data row8 col0\" >Chhattisgarh</td>\n",
       "      <td id=\"T_9a7b6_row8_col1\" class=\"data row8 col1\" >163776262</td>\n",
       "      <td id=\"T_9a7b6_row8_col2\" class=\"data row8 col2\" >151609364</td>\n",
       "      <td id=\"T_9a7b6_row8_col3\" class=\"data row8 col3\" >2063920</td>\n",
       "      <td id=\"T_9a7b6_row8_col4\" class=\"data row8 col4\" >10102978</td>\n",
       "      <td id=\"T_9a7b6_row8_col5\" class=\"data row8 col5\" >40119.951451</td>\n",
       "    </tr>\n",
       "    <tr>\n",
       "      <th id=\"T_9a7b6_level0_row9\" class=\"row_heading level0 row9\" >9</th>\n",
       "      <td id=\"T_9a7b6_row9_col0\" class=\"data row9 col0\" >Rajasthan</td>\n",
       "      <td id=\"T_9a7b6_row9_col1\" class=\"data row9 col1\" >162369656</td>\n",
       "      <td id=\"T_9a7b6_row9_col2\" class=\"data row9 col2\" >150356820</td>\n",
       "      <td id=\"T_9a7b6_row9_col3\" class=\"data row9 col3\" >1473089</td>\n",
       "      <td id=\"T_9a7b6_row9_col4\" class=\"data row9 col4\" >10539747</td>\n",
       "      <td id=\"T_9a7b6_row9_col5\" class=\"data row9 col5\" >41121.158501</td>\n",
       "    </tr>\n",
       "  </tbody>\n",
       "</table>\n"
      ],
      "text/plain": [
       "<pandas.io.formats.style.Styler at 0x26ed19a6f50>"
      ]
     },
     "execution_count": 44,
     "metadata": {},
     "output_type": "execute_result"
    }
   ],
   "source": [
    "# Creating a pivot table to get the total number of cases in each region\n",
    "covid_pivot = pd.pivot_table(covid_df, values=['Reported', 'Cured' , 'Deaths' , 'Active', 'Cure Rate'], index=['Region'], aggfunc=sum)\n",
    "covid_pivot = covid_pivot[['Reported', 'Cured' , 'Deaths' , 'Active', 'Cure Rate']]\n",
    "\n",
    "covid_pivot = covid_pivot.sort_values(by=['Reported'], ascending=False).reset_index()\n",
    "covid_pivot.head(10).style.background_gradient(cmap='Blues')"
   ]
  },
  {
   "cell_type": "code",
   "execution_count": 45,
   "metadata": {},
   "outputs": [
    {
     "data": {
      "image/png": "[encoded data removed]",
      "text/plain": [
       "<Figure size 1500x400 with 1 Axes>"
      ]
     },
     "metadata": {},
     "output_type": "display_data"
    }
   ],
   "source": [
    "# Bar chat to display top 10 regions with most number of cases\n",
    "top_active_cases = covid_df.groupby(by = 'Region')[['Active']].sum()\n",
    "top_active_cases = top_active_cases.sort_values(by = ['Active'], ascending = False).reset_index()\n",
    "\n",
    "fig = plt.figure(figsize=(15, 4))\n",
    "plt.title(\"Top 10 regions with most active cases\")\n",
    "ax = sns.barplot(data = top_active_cases.iloc[:10], y = \"Active\", x = \"Region\")\n",
    "ax.yaxis.get_major_formatter().set_scientific(False)\n",
    "ax.yaxis.get_major_formatter().set_useOffset(False)\n",
    "\n",
    "plt.xlabel(\"Regions\")\n",
    "plt.ylabel(\"Active Cases\")\n",
    "plt.show()"
   ]
  },
  {
   "cell_type": "code",
   "execution_count": 46,
   "metadata": {},
   "outputs": [
    {
     "data": {
      "image/png": "[encoded data removed]",
      "text/plain": [
       "<Figure size 1500x400 with 1 Axes>"
      ]
     },
     "metadata": {},
     "output_type": "display_data"
    }
   ],
   "source": [
    "# Grow trend to display the growth of COVID-19 in India\n",
    "\n",
    "fig = plt.figure(figsize=(15, 4))\n",
    "plt.title(\"Growth trend of COVID-19 in India\")\n",
    "ax = sns.lineplot(data = covid_df.groupby(by = 'Date')[['Reported', 'Cured' , 'Deaths' , 'Active']].sum())\n",
    "ax.yaxis.get_major_formatter().set_scientific(False)\n",
    "ax.yaxis.get_major_formatter().set_useOffset(False)\n",
    "\n",
    "plt.xlabel(\"Date\")\n",
    "plt.ylabel(\"Number of Cases\")\n",
    "plt.show()"
   ]
  },
  {
   "cell_type": "code",
   "execution_count": 47,
   "metadata": {},
   "outputs": [
    {
     "data": {
      "image/png": "[encoded data removed]",
      "text/plain": [
       "<Figure size 1200x600 with 1 Axes>"
      ]
     },
     "metadata": {},
     "output_type": "display_data"
    }
   ],
   "source": [
    "# Grow trend to display top 5 effected states in India\n",
    "fig = plt.figure(figsize=(12, 6))\n",
    "ax = sns.lineplot( data = covid_df[covid_df['Region'].isin(['Maharashtra', 'Karnataka', 'Kerala', 'Tamil Nadu', 'Andhra Pradesh'])], x = 'Date', y= 'Active', hue = 'Region')\n",
    "\n",
    "plt.title(\"Top 5 effected states in India\")\n",
    "plt.xlabel(\"Date\")\n",
    "plt.ylabel(\"Number of Active Cases\")\n",
    "plt.show()"
   ]
  },
  {
   "cell_type": "code",
   "execution_count": 48,
   "metadata": {},
   "outputs": [
    {
     "data": {
      "text/html": [
       "<div>\n",
       "<style scoped>\n",
       "    .dataframe tbody tr th:only-of-type {\n",
       "        vertical-align: middle;\n",
       "    }\n",
       "\n",
       "    .dataframe tbody tr th {\n",
       "        vertical-align: top;\n",
       "    }\n",
       "\n",
       "    .dataframe thead th {\n",
       "        text-align: right;\n",
       "    }\n",
       "</style>\n",
       "<table border=\"1\" class=\"dataframe\">\n",
       "  <thead>\n",
       "    <tr style=\"text-align: right;\">\n",
       "      <th></th>\n",
       "      <th>index</th>\n",
       "      <th>Date</th>\n",
       "      <th>Region</th>\n",
       "      <th>Total Doses Administered</th>\n",
       "      <th>Sessions</th>\n",
       "      <th>Sites</th>\n",
       "      <th>First Dose Administered</th>\n",
       "      <th>Second Dose Administered</th>\n",
       "      <th>Male (Doses Administered)</th>\n",
       "      <th>Female (Doses Administered)</th>\n",
       "      <th>...</th>\n",
       "      <th>18-44 Years (Doses Administered)</th>\n",
       "      <th>45-60 Years (Doses Administered)</th>\n",
       "      <th>60+ Years (Doses Administered)</th>\n",
       "      <th>18-44 Years(Individuals Vaccinated)</th>\n",
       "      <th>45-60 Years(Individuals Vaccinated)</th>\n",
       "      <th>60+ Years(Individuals Vaccinated)</th>\n",
       "      <th>Male(Individuals Vaccinated)</th>\n",
       "      <th>Female(Individuals Vaccinated)</th>\n",
       "      <th>Transgender(Individuals Vaccinated)</th>\n",
       "      <th>Total Individuals Vaccinated</th>\n",
       "    </tr>\n",
       "  </thead>\n",
       "  <tbody>\n",
       "    <tr>\n",
       "      <th>0</th>\n",
       "      <td>0</td>\n",
       "      <td>2021-01-16</td>\n",
       "      <td>India</td>\n",
       "      <td>48276.0</td>\n",
       "      <td>3455.0</td>\n",
       "      <td>2957.0</td>\n",
       "      <td>48276.0</td>\n",
       "      <td>0.0</td>\n",
       "      <td>NaN</td>\n",
       "      <td>NaN</td>\n",
       "      <td>...</td>\n",
       "      <td>NaN</td>\n",
       "      <td>NaN</td>\n",
       "      <td>NaN</td>\n",
       "      <td>NaN</td>\n",
       "      <td>NaN</td>\n",
       "      <td>NaN</td>\n",
       "      <td>23757.0</td>\n",
       "      <td>24517.0</td>\n",
       "      <td>2.0</td>\n",
       "      <td>48276.0</td>\n",
       "    </tr>\n",
       "    <tr>\n",
       "      <th>1</th>\n",
       "      <td>4665</td>\n",
       "      <td>2021-01-16</td>\n",
       "      <td>Manipur</td>\n",
       "      <td>181.0</td>\n",
       "      <td>10.0</td>\n",
       "      <td>10.0</td>\n",
       "      <td>181.0</td>\n",
       "      <td>0.0</td>\n",
       "      <td>112.0</td>\n",
       "      <td>69.0</td>\n",
       "      <td>...</td>\n",
       "      <td>NaN</td>\n",
       "      <td>NaN</td>\n",
       "      <td>NaN</td>\n",
       "      <td>NaN</td>\n",
       "      <td>NaN</td>\n",
       "      <td>NaN</td>\n",
       "      <td>NaN</td>\n",
       "      <td>NaN</td>\n",
       "      <td>NaN</td>\n",
       "      <td>181.0</td>\n",
       "    </tr>\n",
       "    <tr>\n",
       "      <th>2</th>\n",
       "      <td>1272</td>\n",
       "      <td>2021-01-16</td>\n",
       "      <td>Chandigarh</td>\n",
       "      <td>120.0</td>\n",
       "      <td>5.0</td>\n",
       "      <td>5.0</td>\n",
       "      <td>120.0</td>\n",
       "      <td>0.0</td>\n",
       "      <td>94.0</td>\n",
       "      <td>26.0</td>\n",
       "      <td>...</td>\n",
       "      <td>NaN</td>\n",
       "      <td>NaN</td>\n",
       "      <td>NaN</td>\n",
       "      <td>NaN</td>\n",
       "      <td>NaN</td>\n",
       "      <td>NaN</td>\n",
       "      <td>NaN</td>\n",
       "      <td>NaN</td>\n",
       "      <td>NaN</td>\n",
       "      <td>120.0</td>\n",
       "    </tr>\n",
       "    <tr>\n",
       "      <th>3</th>\n",
       "      <td>7209</td>\n",
       "      <td>2021-01-16</td>\n",
       "      <td>Uttar Pradesh</td>\n",
       "      <td>2212.0</td>\n",
       "      <td>380.0</td>\n",
       "      <td>327.0</td>\n",
       "      <td>2212.0</td>\n",
       "      <td>0.0</td>\n",
       "      <td>1341.0</td>\n",
       "      <td>871.0</td>\n",
       "      <td>...</td>\n",
       "      <td>NaN</td>\n",
       "      <td>NaN</td>\n",
       "      <td>NaN</td>\n",
       "      <td>NaN</td>\n",
       "      <td>NaN</td>\n",
       "      <td>NaN</td>\n",
       "      <td>NaN</td>\n",
       "      <td>NaN</td>\n",
       "      <td>NaN</td>\n",
       "      <td>2212.0</td>\n",
       "    </tr>\n",
       "    <tr>\n",
       "      <th>4</th>\n",
       "      <td>636</td>\n",
       "      <td>2021-01-16</td>\n",
       "      <td>Arunachal Pradesh</td>\n",
       "      <td>81.0</td>\n",
       "      <td>10.0</td>\n",
       "      <td>9.0</td>\n",
       "      <td>81.0</td>\n",
       "      <td>0.0</td>\n",
       "      <td>40.0</td>\n",
       "      <td>41.0</td>\n",
       "      <td>...</td>\n",
       "      <td>NaN</td>\n",
       "      <td>NaN</td>\n",
       "      <td>NaN</td>\n",
       "      <td>NaN</td>\n",
       "      <td>NaN</td>\n",
       "      <td>NaN</td>\n",
       "      <td>NaN</td>\n",
       "      <td>NaN</td>\n",
       "      <td>NaN</td>\n",
       "      <td>81.0</td>\n",
       "    </tr>\n",
       "  </tbody>\n",
       "</table>\n",
       "<p>5 rows × 25 columns</p>\n",
       "</div>"
      ],
      "text/plain": [
       "   index       Date             Region  Total Doses Administered  Sessions   \n",
       "0      0 2021-01-16              India                   48276.0    3455.0  \\\n",
       "1   4665 2021-01-16            Manipur                     181.0      10.0   \n",
       "2   1272 2021-01-16         Chandigarh                     120.0       5.0   \n",
       "3   7209 2021-01-16      Uttar Pradesh                    2212.0     380.0   \n",
       "4    636 2021-01-16  Arunachal Pradesh                      81.0      10.0   \n",
       "\n",
       "    Sites   First Dose Administered  Second Dose Administered   \n",
       "0   2957.0                  48276.0                       0.0  \\\n",
       "1     10.0                    181.0                       0.0   \n",
       "2      5.0                    120.0                       0.0   \n",
       "3    327.0                   2212.0                       0.0   \n",
       "4      9.0                     81.0                       0.0   \n",
       "\n",
       "   Male (Doses Administered)  Female (Doses Administered)  ...   \n",
       "0                        NaN                          NaN  ...  \\\n",
       "1                      112.0                         69.0  ...   \n",
       "2                       94.0                         26.0  ...   \n",
       "3                     1341.0                        871.0  ...   \n",
       "4                       40.0                         41.0  ...   \n",
       "\n",
       "   18-44 Years (Doses Administered)  45-60 Years (Doses Administered)   \n",
       "0                               NaN                               NaN  \\\n",
       "1                               NaN                               NaN   \n",
       "2                               NaN                               NaN   \n",
       "3                               NaN                               NaN   \n",
       "4                               NaN                               NaN   \n",
       "\n",
       "   60+ Years (Doses Administered)  18-44 Years(Individuals Vaccinated)   \n",
       "0                             NaN                                  NaN  \\\n",
       "1                             NaN                                  NaN   \n",
       "2                             NaN                                  NaN   \n",
       "3                             NaN                                  NaN   \n",
       "4                             NaN                                  NaN   \n",
       "\n",
       "   45-60 Years(Individuals Vaccinated)  60+ Years(Individuals Vaccinated)   \n",
       "0                                  NaN                                NaN  \\\n",
       "1                                  NaN                                NaN   \n",
       "2                                  NaN                                NaN   \n",
       "3                                  NaN                                NaN   \n",
       "4                                  NaN                                NaN   \n",
       "\n",
       "   Male(Individuals Vaccinated)  Female(Individuals Vaccinated)   \n",
       "0                       23757.0                         24517.0  \\\n",
       "1                           NaN                             NaN   \n",
       "2                           NaN                             NaN   \n",
       "3                           NaN                             NaN   \n",
       "4                           NaN                             NaN   \n",
       "\n",
       "   Transgender(Individuals Vaccinated)  Total Individuals Vaccinated  \n",
       "0                                  2.0                       48276.0  \n",
       "1                                  NaN                         181.0  \n",
       "2                                  NaN                         120.0  \n",
       "3                                  NaN                        2212.0  \n",
       "4                                  NaN                          81.0  \n",
       "\n",
       "[5 rows x 25 columns]"
      ]
     },
     "execution_count": 48,
     "metadata": {},
     "output_type": "execute_result"
    }
   ],
   "source": [
    "vaccine_df.rename(columns={\"Updated On\": \"Date\", \"State\" : \"Region\"}, inplace=True)\n",
    "vaccine_df['Date'] = pd.to_datetime(vaccine_df['Date'], format='%d/%m/%Y')\n",
    "try:\n",
    "    vaccine_df = vaccine_df.sort_values( by = 'Date', ascending = True ).reset_index()\n",
    "except:\n",
    "    print(\"Run All to do so!\")\n",
    "vaccine_df.head(5)"
   ]
  },
  {
   "cell_type": "code",
   "execution_count": 49,
   "metadata": {},
   "outputs": [
    {
     "data": {
      "image/png": "[encoded data removed]",
      "text/plain": [
       "<Figure size 1500x400 with 1 Axes>"
      ]
     },
     "metadata": {},
     "output_type": "display_data"
    }
   ],
   "source": [
    "# Grow trend to vaccinate people based on genders in India\n",
    "\n",
    "fig = plt.figure(figsize=(15, 4))\n",
    "plt.title(\"Vaccination trend in India\")\n",
    "ax = sns.lineplot(data = vaccine_df.groupby(by = 'Date')[['Male (Doses Administered)', 'Female (Doses Administered)']].sum())\n",
    "ax.yaxis.get_major_formatter().set_scientific(False)\n",
    "ax.yaxis.get_major_formatter().set_useOffset(False)\n",
    "\n",
    "plt.xlabel(\"Date\")\n",
    "plt.ylabel(\"Number of people based on genders\")\n",
    "plt.show()"
   ]
  },
  {
   "cell_type": "code",
   "execution_count": 50,
   "metadata": {},
   "outputs": [
    {
     "data": {
      "application/vnd.plotly.v1+json": {
       "config": {
        "plotlyServerURL": "https://plot.ly"
       },
       "data": [
        {
         "domain": {
          "x": [
           0,
           1
          ],
          "y": [
           0,
           1
          ]
         },
         "hovertemplate": "label=%{label}<br>value=%{value}<extra></extra>",
         "labels": [
          "Male",
          "Female"
         ],
         "legendgroup": "",
         "name": "",
         "showlegend": true,
         "type": "pie",
         "values": [
          27009983996,
          23639554465
         ]
        }
       ],
       "layout": {
        "legend": {
         "tracegroupgap": 0
        },
        "template": {
         "data": {
          "bar": [
           {
            "error_x": {
             "color": "#2a3f5f"
            },
            "error_y": {
             "color": "#2a3f5f"
            },
            "marker": {
             "line": {
              "color": "#E5ECF6",
              "width": 0.5
             },
             "pattern": {
              "fillmode": "overlay",
              "size": 10,
              "solidity": 0.2
             }
            },
            "type": "bar"
           }
          ],
          "barpolar": [
           {
            "marker": {
             "line": {
              "color": "#E5ECF6",
              "width": 0.5
             },
             "pattern": {
              "fillmode": "overlay",
              "size": 10,
              "solidity": 0.2
             }
            },
            "type": "barpolar"
           }
          ],
          "carpet": [
           {
            "aaxis": {
             "endlinecolor": "#2a3f5f",
             "gridcolor": "white",
             "linecolor": "white",
             "minorgridcolor": "white",
             "startlinecolor": "#2a3f5f"
            },
            "baxis": {
             "endlinecolor": "#2a3f5f",
             "gridcolor": "white",
             "linecolor": "white",
             "minorgridcolor": "white",
             "startlinecolor": "#2a3f5f"
            },
            "type": "carpet"
           }
          ],
          "choropleth": [
           {
            "colorbar": {
             "outlinewidth": 0,
             "ticks": ""
            },
            "type": "choropleth"
           }
          ],
          "contour": [
           {
            "colorbar": {
             "outlinewidth": 0,
             "ticks": ""
            },
            "colorscale": [
             [
              0,
              "#0d0887"
             ],
             [
              0.1111111111111111,
              "#46039f"
             ],
             [
              0.2222222222222222,
              "#7201a8"
             ],
             [
              0.3333333333333333,
              "#9c179e"
             ],
             [
              0.4444444444444444,
              "#bd3786"
             ],
             [
              0.5555555555555556,
              "#d8576b"
             ],
             [
              0.6666666666666666,
              "#ed7953"
             ],
             [
              0.7777777777777778,
              "#fb9f3a"
             ],
             [
              0.8888888888888888,
              "#fdca26"
             ],
             [
              1,
              "#f0f921"
             ]
            ],
            "type": "contour"
           }
          ],
          "contourcarpet": [
           {
            "colorbar": {
             "outlinewidth": 0,
             "ticks": ""
            },
            "type": "contourcarpet"
           }
          ],
          "heatmap": [
           {
            "colorbar": {
             "outlinewidth": 0,
             "ticks": ""
            },
            "colorscale": [
             [
              0,
              "#0d0887"
             ],
             [
              0.1111111111111111,
              "#46039f"
             ],
             [
              0.2222222222222222,
              "#7201a8"
             ],
             [
              0.3333333333333333,
              "#9c179e"
             ],
             [
              0.4444444444444444,
              "#bd3786"
             ],
             [
              0.5555555555555556,
              "#d8576b"
             ],
             [
              0.6666666666666666,
              "#ed7953"
             ],
             [
              0.7777777777777778,
              "#fb9f3a"
             ],
             [
              0.8888888888888888,
              "#fdca26"
             ],
             [
              1,
              "#f0f921"
             ]
            ],
            "type": "heatmap"
           }
          ],
          "heatmapgl": [
           {
            "colorbar": {
             "outlinewidth": 0,
             "ticks": ""
            },
            "colorscale": [
             [
              0,
              "#0d0887"
             ],
             [
              0.1111111111111111,
              "#46039f"
             ],
             [
              0.2222222222222222,
              "#7201a8"
             ],
             [
              0.3333333333333333,
              "#9c179e"
             ],
             [
              0.4444444444444444,
              "#bd3786"
             ],
             [
              0.5555555555555556,
              "#d8576b"
             ],
             [
              0.6666666666666666,
              "#ed7953"
             ],
             [
              0.7777777777777778,
              "#fb9f3a"
             ],
             [
              0.8888888888888888,
              "#fdca26"
             ],
             [
              1,
              "#f0f921"
             ]
            ],
            "type": "heatmapgl"
           }
          ],
          "histogram": [
           {
            "marker": {
             "pattern": {
              "fillmode": "overlay",
              "size": 10,
              "solidity": 0.2
             }
            },
            "type": "histogram"
           }
          ],
          "histogram2d": [
           {
            "colorbar": {
             "outlinewidth": 0,
             "ticks": ""
            },
            "colorscale": [
             [
              0,
              "#0d0887"
             ],
             [
              0.1111111111111111,
              "#46039f"
             ],
             [
              0.2222222222222222,
              "#7201a8"
             ],
             [
              0.3333333333333333,
              "#9c179e"
             ],
             [
              0.4444444444444444,
              "#bd3786"
             ],
             [
              0.5555555555555556,
              "#d8576b"
             ],
             [
              0.6666666666666666,
              "#ed7953"
             ],
             [
              0.7777777777777778,
              "#fb9f3a"
             ],
             [
              0.8888888888888888,
              "#fdca26"
             ],
             [
              1,
              "#f0f921"
             ]
            ],
            "type": "histogram2d"
           }
          ],
          "histogram2dcontour": [
           {
            "colorbar": {
             "outlinewidth": 0,
             "ticks": ""
            },
            "colorscale": [
             [
              0,
              "#0d0887"
             ],
             [
              0.1111111111111111,
              "#46039f"
             ],
             [
              0.2222222222222222,
              "#7201a8"
             ],
             [
              0.3333333333333333,
              "#9c179e"
             ],
             [
              0.4444444444444444,
              "#bd3786"
             ],
             [
              0.5555555555555556,
              "#d8576b"
             ],
             [
              0.6666666666666666,
              "#ed7953"
             ],
             [
              0.7777777777777778,
              "#fb9f3a"
             ],
             [
              0.8888888888888888,
              "#fdca26"
             ],
             [
              1,
              "#f0f921"
             ]
            ],
            "type": "histogram2dcontour"
           }
          ],
          "mesh3d": [
           {
            "colorbar": {
             "outlinewidth": 0,
             "ticks": ""
            },
            "type": "mesh3d"
           }
          ],
          "parcoords": [
           {
            "line": {
             "colorbar": {
              "outlinewidth": 0,
              "ticks": ""
             }
            },
            "type": "parcoords"
           }
          ],
          "pie": [
           {
            "automargin": true,
            "type": "pie"
           }
          ],
          "scatter": [
           {
            "fillpattern": {
             "fillmode": "overlay",
             "size": 10,
             "solidity": 0.2
            },
            "type": "scatter"
           }
          ],
          "scatter3d": [
           {
            "line": {
             "colorbar": {
              "outlinewidth": 0,
              "ticks": ""
             }
            },
            "marker": {
             "colorbar": {
              "outlinewidth": 0,
              "ticks": ""
             }
            },
            "type": "scatter3d"
           }
          ],
          "scattercarpet": [
           {
            "marker": {
             "colorbar": {
              "outlinewidth": 0,
              "ticks": ""
             }
            },
            "type": "scattercarpet"
           }
          ],
          "scattergeo": [
           {
            "marker": {
             "colorbar": {
              "outlinewidth": 0,
              "ticks": ""
             }
            },
            "type": "scattergeo"
           }
          ],
          "scattergl": [
           {
            "marker": {
             "colorbar": {
              "outlinewidth": 0,
              "ticks": ""
             }
            },
            "type": "scattergl"
           }
          ],
          "scattermapbox": [
           {
            "marker": {
             "colorbar": {
              "outlinewidth": 0,
              "ticks": ""
             }
            },
            "type": "scattermapbox"
           }
          ],
          "scatterpolar": [
           {
            "marker": {
             "colorbar": {
              "outlinewidth": 0,
              "ticks": ""
             }
            },
            "type": "scatterpolar"
           }
          ],
          "scatterpolargl": [
           {
            "marker": {
             "colorbar": {
              "outlinewidth": 0,
              "ticks": ""
             }
            },
            "type": "scatterpolargl"
           }
          ],
          "scatterternary": [
           {
            "marker": {
             "colorbar": {
              "outlinewidth": 0,
              "ticks": ""
             }
            },
            "type": "scatterternary"
           }
          ],
          "surface": [
           {
            "colorbar": {
             "outlinewidth": 0,
             "ticks": ""
            },
            "colorscale": [
             [
              0,
              "#0d0887"
             ],
             [
              0.1111111111111111,
              "#46039f"
             ],
             [
              0.2222222222222222,
              "#7201a8"
             ],
             [
              0.3333333333333333,
              "#9c179e"
             ],
             [
              0.4444444444444444,
              "#bd3786"
             ],
             [
              0.5555555555555556,
              "#d8576b"
             ],
             [
              0.6666666666666666,
              "#ed7953"
             ],
             [
              0.7777777777777778,
              "#fb9f3a"
             ],
             [
              0.8888888888888888,
              "#fdca26"
             ],
             [
              1,
              "#f0f921"
             ]
            ],
            "type": "surface"
           }
          ],
          "table": [
           {
            "cells": {
             "fill": {
              "color": "#EBF0F8"
             },
             "line": {
              "color": "white"
             }
            },
            "header": {
             "fill": {
              "color": "#C8D4E3"
             },
             "line": {
              "color": "white"
             }
            },
            "type": "table"
           }
          ]
         },
         "layout": {
          "annotationdefaults": {
           "arrowcolor": "#2a3f5f",
           "arrowhead": 0,
           "arrowwidth": 1
          },
          "autotypenumbers": "strict",
          "coloraxis": {
           "colorbar": {
            "outlinewidth": 0,
            "ticks": ""
           }
          },
          "colorscale": {
           "diverging": [
            [
             0,
             "#8e0152"
            ],
            [
             0.1,
             "#c51b7d"
            ],
            [
             0.2,
             "#de77ae"
            ],
            [
             0.3,
             "#f1b6da"
            ],
            [
             0.4,
             "#fde0ef"
            ],
            [
             0.5,
             "#f7f7f7"
            ],
            [
             0.6,
             "#e6f5d0"
            ],
            [
             0.7,
             "#b8e186"
            ],
            [
             0.8,
             "#7fbc41"
            ],
            [
             0.9,
             "#4d9221"
            ],
            [
             1,
             "#276419"
            ]
           ],
           "sequential": [
            [
             0,
             "#0d0887"
            ],
            [
             0.1111111111111111,
             "#46039f"
            ],
            [
             0.2222222222222222,
             "#7201a8"
            ],
            [
             0.3333333333333333,
             "#9c179e"
            ],
            [
             0.4444444444444444,
             "#bd3786"
            ],
            [
             0.5555555555555556,
             "#d8576b"
            ],
            [
             0.6666666666666666,
             "#ed7953"
            ],
            [
             0.7777777777777778,
             "#fb9f3a"
            ],
            [
             0.8888888888888888,
             "#fdca26"
            ],
            [
             1,
             "#f0f921"
            ]
           ],
           "sequentialminus": [
            [
             0,
             "#0d0887"
            ],
            [
             0.1111111111111111,
             "#46039f"
            ],
            [
             0.2222222222222222,
             "#7201a8"
            ],
            [
             0.3333333333333333,
             "#9c179e"
            ],
            [
             0.4444444444444444,
             "#bd3786"
            ],
            [
             0.5555555555555556,
             "#d8576b"
            ],
            [
             0.6666666666666666,
             "#ed7953"
            ],
            [
             0.7777777777777778,
             "#fb9f3a"
            ],
            [
             0.8888888888888888,
             "#fdca26"
            ],
            [
             1,
             "#f0f921"
            ]
           ]
          },
          "colorway": [
           "#636efa",
           "#EF553B",
           "#00cc96",
           "#ab63fa",
           "#FFA15A",
           "#19d3f3",
           "#FF6692",
           "#B6E880",
           "#FF97FF",
           "#FECB52"
          ],
          "font": {
           "color": "#2a3f5f"
          },
          "geo": {
           "bgcolor": "white",
           "lakecolor": "white",
           "landcolor": "#E5ECF6",
           "showlakes": true,
           "showland": true,
           "subunitcolor": "white"
          },
          "hoverlabel": {
           "align": "left"
          },
          "hovermode": "closest",
          "mapbox": {
           "style": "light"
          },
          "paper_bgcolor": "white",
          "plot_bgcolor": "#E5ECF6",
          "polar": {
           "angularaxis": {
            "gridcolor": "white",
            "linecolor": "white",
            "ticks": ""
           },
           "bgcolor": "#E5ECF6",
           "radialaxis": {
            "gridcolor": "white",
            "linecolor": "white",
            "ticks": ""
           }
          },
          "scene": {
           "xaxis": {
            "backgroundcolor": "#E5ECF6",
            "gridcolor": "white",
            "gridwidth": 2,
            "linecolor": "white",
            "showbackground": true,
            "ticks": "",
            "zerolinecolor": "white"
           },
           "yaxis": {
            "backgroundcolor": "#E5ECF6",
            "gridcolor": "white",
            "gridwidth": 2,
            "linecolor": "white",
            "showbackground": true,
            "ticks": "",
            "zerolinecolor": "white"
           },
           "zaxis": {
            "backgroundcolor": "#E5ECF6",
            "gridcolor": "white",
            "gridwidth": 2,
            "linecolor": "white",
            "showbackground": true,
            "ticks": "",
            "zerolinecolor": "white"
           }
          },
          "shapedefaults": {
           "line": {
            "color": "#2a3f5f"
           }
          },
          "ternary": {
           "aaxis": {
            "gridcolor": "white",
            "linecolor": "white",
            "ticks": ""
           },
           "baxis": {
            "gridcolor": "white",
            "linecolor": "white",
            "ticks": ""
           },
           "bgcolor": "#E5ECF6",
           "caxis": {
            "gridcolor": "white",
            "linecolor": "white",
            "ticks": ""
           }
          },
          "title": {
           "x": 0.05
          },
          "xaxis": {
           "automargin": true,
           "gridcolor": "white",
           "linecolor": "white",
           "ticks": "",
           "title": {
            "standoff": 15
           },
           "zerolinecolor": "white",
           "zerolinewidth": 2
          },
          "yaxis": {
           "automargin": true,
           "gridcolor": "white",
           "linecolor": "white",
           "ticks": "",
           "title": {
            "standoff": 15
           },
           "zerolinecolor": "white",
           "zerolinewidth": 2
          }
         }
        },
        "title": {
         "text": "Male & Female vaccination"
        }
       }
      }
     },
     "metadata": {},
     "output_type": "display_data"
    }
   ],
   "source": [
    "male = vaccine_df['Male (Doses Administered)'].sum()\n",
    "female = vaccine_df['Female (Doses Administered)'].sum()\n",
    "px.pie( names = [\"Male\", \"Female\"], values= [male, female], title= \"Male & Female vaccination\" )"
   ]
  },
  {
   "cell_type": "code",
   "execution_count": 51,
   "metadata": {},
   "outputs": [
    {
     "data": {
      "text/html": [
       "<div>\n",
       "<style scoped>\n",
       "    .dataframe tbody tr th:only-of-type {\n",
       "        vertical-align: middle;\n",
       "    }\n",
       "\n",
       "    .dataframe tbody tr th {\n",
       "        vertical-align: top;\n",
       "    }\n",
       "\n",
       "    .dataframe thead th {\n",
       "        text-align: right;\n",
       "    }\n",
       "</style>\n",
       "<table border=\"1\" class=\"dataframe\">\n",
       "  <thead>\n",
       "    <tr style=\"text-align: right;\">\n",
       "      <th></th>\n",
       "      <th>index</th>\n",
       "      <th>Date</th>\n",
       "      <th>Region</th>\n",
       "      <th>Total Doses Administered</th>\n",
       "      <th>Sessions</th>\n",
       "      <th>Sites</th>\n",
       "      <th>First Dose Administered</th>\n",
       "      <th>Second Dose Administered</th>\n",
       "      <th>Male (Doses Administered)</th>\n",
       "      <th>Female (Doses Administered)</th>\n",
       "      <th>...</th>\n",
       "      <th>18-44 Years (Doses Administered)</th>\n",
       "      <th>45-60 Years (Doses Administered)</th>\n",
       "      <th>60+ Years (Doses Administered)</th>\n",
       "      <th>18-44 Years(Individuals Vaccinated)</th>\n",
       "      <th>45-60 Years(Individuals Vaccinated)</th>\n",
       "      <th>60+ Years(Individuals Vaccinated)</th>\n",
       "      <th>Male(Individuals Vaccinated)</th>\n",
       "      <th>Female(Individuals Vaccinated)</th>\n",
       "      <th>Transgender(Individuals Vaccinated)</th>\n",
       "      <th>Total Individuals Vaccinated</th>\n",
       "    </tr>\n",
       "  </thead>\n",
       "  <tbody>\n",
       "    <tr>\n",
       "      <th>1</th>\n",
       "      <td>4665</td>\n",
       "      <td>2021-01-16</td>\n",
       "      <td>Manipur</td>\n",
       "      <td>181.0</td>\n",
       "      <td>10.0</td>\n",
       "      <td>10.0</td>\n",
       "      <td>181.0</td>\n",
       "      <td>0.0</td>\n",
       "      <td>112.0</td>\n",
       "      <td>69.0</td>\n",
       "      <td>...</td>\n",
       "      <td>NaN</td>\n",
       "      <td>NaN</td>\n",
       "      <td>NaN</td>\n",
       "      <td>NaN</td>\n",
       "      <td>NaN</td>\n",
       "      <td>NaN</td>\n",
       "      <td>NaN</td>\n",
       "      <td>NaN</td>\n",
       "      <td>NaN</td>\n",
       "      <td>181.0</td>\n",
       "    </tr>\n",
       "    <tr>\n",
       "      <th>2</th>\n",
       "      <td>1272</td>\n",
       "      <td>2021-01-16</td>\n",
       "      <td>Chandigarh</td>\n",
       "      <td>120.0</td>\n",
       "      <td>5.0</td>\n",
       "      <td>5.0</td>\n",
       "      <td>120.0</td>\n",
       "      <td>0.0</td>\n",
       "      <td>94.0</td>\n",
       "      <td>26.0</td>\n",
       "      <td>...</td>\n",
       "      <td>NaN</td>\n",
       "      <td>NaN</td>\n",
       "      <td>NaN</td>\n",
       "      <td>NaN</td>\n",
       "      <td>NaN</td>\n",
       "      <td>NaN</td>\n",
       "      <td>NaN</td>\n",
       "      <td>NaN</td>\n",
       "      <td>NaN</td>\n",
       "      <td>120.0</td>\n",
       "    </tr>\n",
       "    <tr>\n",
       "      <th>3</th>\n",
       "      <td>7209</td>\n",
       "      <td>2021-01-16</td>\n",
       "      <td>Uttar Pradesh</td>\n",
       "      <td>2212.0</td>\n",
       "      <td>380.0</td>\n",
       "      <td>327.0</td>\n",
       "      <td>2212.0</td>\n",
       "      <td>0.0</td>\n",
       "      <td>1341.0</td>\n",
       "      <td>871.0</td>\n",
       "      <td>...</td>\n",
       "      <td>NaN</td>\n",
       "      <td>NaN</td>\n",
       "      <td>NaN</td>\n",
       "      <td>NaN</td>\n",
       "      <td>NaN</td>\n",
       "      <td>NaN</td>\n",
       "      <td>NaN</td>\n",
       "      <td>NaN</td>\n",
       "      <td>NaN</td>\n",
       "      <td>2212.0</td>\n",
       "    </tr>\n",
       "  </tbody>\n",
       "</table>\n",
       "<p>3 rows × 25 columns</p>\n",
       "</div>"
      ],
      "text/plain": [
       "   index       Date         Region  Total Doses Administered  Sessions   \n",
       "1   4665 2021-01-16        Manipur                     181.0      10.0  \\\n",
       "2   1272 2021-01-16     Chandigarh                     120.0       5.0   \n",
       "3   7209 2021-01-16  Uttar Pradesh                    2212.0     380.0   \n",
       "\n",
       "    Sites   First Dose Administered  Second Dose Administered   \n",
       "1     10.0                    181.0                       0.0  \\\n",
       "2      5.0                    120.0                       0.0   \n",
       "3    327.0                   2212.0                       0.0   \n",
       "\n",
       "   Male (Doses Administered)  Female (Doses Administered)  ...   \n",
       "1                      112.0                         69.0  ...  \\\n",
       "2                       94.0                         26.0  ...   \n",
       "3                     1341.0                        871.0  ...   \n",
       "\n",
       "   18-44 Years (Doses Administered)  45-60 Years (Doses Administered)   \n",
       "1                               NaN                               NaN  \\\n",
       "2                               NaN                               NaN   \n",
       "3                               NaN                               NaN   \n",
       "\n",
       "   60+ Years (Doses Administered)  18-44 Years(Individuals Vaccinated)   \n",
       "1                             NaN                                  NaN  \\\n",
       "2                             NaN                                  NaN   \n",
       "3                             NaN                                  NaN   \n",
       "\n",
       "   45-60 Years(Individuals Vaccinated)  60+ Years(Individuals Vaccinated)   \n",
       "1                                  NaN                                NaN  \\\n",
       "2                                  NaN                                NaN   \n",
       "3                                  NaN                                NaN   \n",
       "\n",
       "   Male(Individuals Vaccinated)  Female(Individuals Vaccinated)   \n",
       "1                           NaN                             NaN  \\\n",
       "2                           NaN                             NaN   \n",
       "3                           NaN                             NaN   \n",
       "\n",
       "   Transgender(Individuals Vaccinated)  Total Individuals Vaccinated  \n",
       "1                                  NaN                         181.0  \n",
       "2                                  NaN                         120.0  \n",
       "3                                  NaN                        2212.0  \n",
       "\n",
       "[3 rows x 25 columns]"
      ]
     },
     "execution_count": 51,
     "metadata": {},
     "output_type": "execute_result"
    }
   ],
   "source": [
    "# Removing records of India from the dataset\n",
    "vaccine = vaccine_df[ vaccine_df['Region'] != 'India' ]\n",
    "vaccine.head(3)"
   ]
  },
  {
   "cell_type": "code",
   "execution_count": 60,
   "metadata": {},
   "outputs": [
    {
     "data": {
      "image/png": "[encoded data removed]",
      "text/plain": [
       "<Figure size 1500x400 with 1 Axes>"
      ]
     },
     "metadata": {},
     "output_type": "display_data"
    }
   ],
   "source": [
    "# Displaying most vaccinated regions\n",
    "\n",
    "vaccinated_regions = vaccine.groupby(by = 'Region')[['Male (Doses Administered)', 'Female (Doses Administered)']].sum().reset_index()\n",
    "vaccinated_regions['Total'] = vaccinated_regions['Male (Doses Administered)'] + vaccinated_regions['Female (Doses Administered)']\n",
    "vaccinated_regions = vaccinated_regions.sort_values(by = ['Total'], ascending = False).reset_index()\n",
    "\n",
    "fig = plt.figure(figsize=(15, 4))\n",
    "plt.title(\"Top 10 vaccinated regions\")\n",
    "ax = sns.barplot(data = vaccinated_regions.iloc[:10], x = 'Region', y = 'Total')\n",
    "ax.yaxis.get_major_formatter().set_scientific(False)\n",
    "ax.yaxis.get_major_formatter().set_useOffset(False)\n",
    "\n",
    "plt.xlabel(\"Regions\")\n",
    "plt.ylabel(\"Number of people vaccinated\")\n",
    "\n",
    "plt.show()"
   ]
  }
 ],
 "metadata": {
  "kernelspec": {
   "display_name": ".venv",
   "language": "python",
   "name": "python3"
  },
  "language_info": {
   "codemirror_mode": {
    "name": "ipython",
    "version": 3
   },
   "file_extension": ".py",
   "mimetype": "text/x-python",
   "name": "python",
   "nbconvert_exporter": "python",
   "pygments_lexer": "ipython3",
   "version": "3.11.1"
  },
  "orig_nbformat": 4
 },
 "nbformat": 4,
 "nbformat_minor": 2
}
